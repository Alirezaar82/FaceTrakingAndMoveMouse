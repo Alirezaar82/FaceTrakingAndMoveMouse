{
 "cells": [
  {
   "cell_type": "markdown",
   "metadata": {},
   "source": [
    "Imports"
   ]
  },
  {
   "cell_type": "code",
   "execution_count": 1,
   "metadata": {},
   "outputs": [],
   "source": [
    "import cv2 as cv\n",
    "import numpy as np\n",
    "import matplotlib.pyplot as plt\n",
    "import pyautogui as bot\n"
   ]
  },
  {
   "cell_type": "code",
   "execution_count": 2,
   "metadata": {},
   "outputs": [],
   "source": [
    "face_cascade = cv.CascadeClassifier('haarcascade_frontalface_default.xml')\n",
    "eye_cascade = cv.CascadeClassifier('haarcascade_eye.xml')"
   ]
  },
  {
   "cell_type": "code",
   "execution_count": 88,
   "metadata": {},
   "outputs": [
    {
     "name": "stdout",
     "output_type": "stream",
     "text": [
      "x: 189   y: 113\n",
      "x: 193   y: 114\n",
      "x: 206   y: 118\n",
      "x: 212   y: 119\n",
      "x: 216   y: 117\n",
      "x: 225   y: 121\n",
      "x: 221   y: 114\n",
      "x: 226   y: 117\n",
      "x: 233   y: 121\n",
      "x: 233   y: 120\n",
      "x: 233   y: 120\n",
      "x: 235   y: 121\n",
      "x: 235   y: 123\n",
      "x: 237   y: 124\n",
      "x: 237   y: 126\n",
      "x: 235   y: 124\n",
      "x: 235   y: 131\n",
      "x: 236   y: 134\n",
      "x: 239   y: 136\n",
      "x: 236   y: 135\n",
      "x: 237   y: 137\n",
      "x: 237   y: 138\n",
      "x: 235   y: 139\n",
      "x: 234   y: 138\n",
      "x: 235   y: 139\n",
      "x: 238   y: 143\n",
      "x: 236   y: 145\n",
      "x: 235   y: 144\n",
      "x: 222   y: 143\n",
      "x: 226   y: 156\n",
      "x: 230   y: 161\n",
      "x: 231   y: 162\n",
      "x: 220   y: 155\n",
      "x: 218   y: 140\n",
      "x: 218   y: 125\n",
      "x: 217   y: 117\n",
      "x: 225   y: 117\n",
      "x: 225   y: 117\n",
      "x: 225   y: 119\n",
      "x: 224   y: 118\n",
      "x: 223   y: 118\n",
      "x: 226   y: 116\n",
      "x: 228   y: 119\n",
      "x: 229   y: 120\n",
      "x: 226   y: 117\n",
      "x: 231   y: 120\n",
      "x: 231   y: 118\n",
      "x: 233   y: 118\n",
      "x: 231   y: 117\n"
     ]
    }
   ],
   "source": [
    "cap = cv.VideoCapture(0)\n",
    "this_x = 220\n",
    "this_y = 100\n",
    "rectangel_color = (0, 0, 0,)\n",
    "while(True):\n",
    "    rec, frame = cap.read()\n",
    "    frame = cv.flip(frame,1)\n",
    "    frame_gr = cv.cvtColor(frame, cv.COLOR_BGR2GRAY)\n",
    "    faces = face_cascade.detectMultiScale(frame_gr, 1.3, 5)\n",
    "    cv.rectangle(frame,(this_x,this_y),(this_x+200,this_y+200),rectangel_color,3)\n",
    "    for (x, y, w, h) in faces:\n",
    "        cv.rectangle(frame, (x,y), (x+w, y+h), (255,0,255), 2)\n",
    "        frame_gr_roi = frame_gr[y:y+h, x:x+w]\n",
    "        frame_roi = frame[y:y+h, x:x+w]\n",
    "        eyes = eye_cascade.detectMultiScale(frame_gr_roi)\n",
    "        for (ex, ey, ew, eh) in eyes:\n",
    "            cv.rectangle(frame_roi, (ex, ey), (ex+ew, ey+eh), (0,255,0), 2)\n",
    "    # for move a mouse\n",
    "    if x < 220:\n",
    "        bot.moveTo(bot.position().x-abs(this_x-x),bot.position().y)\n",
    "        rectangel_color = (255,255,0)\n",
    "    if x >this_y+200:\n",
    "        bot.moveTo(bot.position().x+abs(this_x-x),bot.position().y)\n",
    "        rectangel_color = (255,255,0)\n",
    "    if y < this_y:\n",
    "        bot.moveTo(bot.position().x,bot.position().y-abs(this_y-y))\n",
    "        rectangel_color = (255,255,0)\n",
    "    if y+h > this_y + 200:\n",
    "        bot.moveTo(bot.position().x,abs(this_y+y))\n",
    "        \n",
    "        rectangel_color = (255,255,0)\n",
    "\n",
    "    cv.imshow('frame', frame)\n",
    "\n",
    "    keyexit = cv.waitKey(5) & 0xFF\n",
    "    if keyexit == 27:\n",
    "        break\n",
    "\n",
    "cv.destroyAllWindows()\n",
    "cap.release()"
   ]
  }
 ],
 "metadata": {
  "kernelspec": {
   "display_name": "Python 3",
   "language": "python",
   "name": "python3"
  },
  "language_info": {
   "codemirror_mode": {
    "name": "ipython",
    "version": 3
   },
   "file_extension": ".py",
   "mimetype": "text/x-python",
   "name": "python",
   "nbconvert_exporter": "python",
   "pygments_lexer": "ipython3",
   "version": "3.11.9"
  }
 },
 "nbformat": 4,
 "nbformat_minor": 2
}
